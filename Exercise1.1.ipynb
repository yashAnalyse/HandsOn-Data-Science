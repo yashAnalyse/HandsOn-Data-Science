{
 "cells": [
  {
   "cell_type": "code",
   "execution_count": 2,
   "metadata": {},
   "outputs": [
    {
     "name": "stdout",
     "output_type": "stream",
     "text": [
      "Enter marks of subject no 1: 86\n",
      "Enter marks of subject no 2: 57\n",
      "Enter marks of subject no 3: 73\n",
      "Average marks : 72.0\n"
     ]
    }
   ],
   "source": [
    "# Taking input from user\n",
    "\n",
    "sub1 = int(input('Enter marks of subject no 1: '))\n",
    "sub2 = int(input('Enter marks of subject no 2: '))\n",
    "sub3 = int(input('Enter marks of subject no 3: '))\n",
    "\n",
    "# Calculating Avg. of marks\n",
    "\n",
    "avg = (sub1+sub2+sub3)/3\n",
    "print('Average marks :', avg)"
   ]
  },
  {
   "cell_type": "code",
   "execution_count": 3,
   "metadata": {},
   "outputs": [
    {
     "name": "stdout",
     "output_type": "stream",
     "text": [
      "Enter X: 2\n",
      "Enter N: 5\n",
      "32\n"
     ]
    }
   ],
   "source": [
    "# calculate X^N\n",
    "\n",
    "x = int(input('Enter X: '))\n",
    "n = int(input('Enter N: '))\n",
    "print(x**n)"
   ]
  },
  {
   "cell_type": "code",
   "execution_count": 2,
   "metadata": {},
   "outputs": [
    {
     "name": "stdout",
     "output_type": "stream",
     "text": [
      "Enter A: 1\n",
      "Enter B: 3\n",
      "Enter C: 5\n",
      "2\n"
     ]
    }
   ],
   "source": [
    "# Calculate and print common Difference\n",
    "\n",
    "a = int(input('Enter A: '))\n",
    "b = int(input('Enter B: '))\n",
    "c = int(input('Enter C: '))\n",
    "\n",
    "result1 = b-a\n",
    "result2 = c-b\n",
    "result3 = c-a\n",
    "\n",
    "if result1 == result2:\n",
    "    print(result1)\n",
    "if result1 == result3:\n",
    "    print(result1)\n",
    "if result2 == result3:\n",
    "    print(result2)"
   ]
  },
  {
   "cell_type": "markdown",
   "metadata": {},
   "source": [
    "## Rectangle Area"
   ]
  },
  {
   "cell_type": "code",
   "execution_count": 4,
   "metadata": {},
   "outputs": [
    {
     "name": "stdout",
     "output_type": "stream",
     "text": [
      "Enter X1: 2\n",
      "Enter Y1: 4\n",
      "Enter X2: 4\n",
      "Enter Y2: 8\n"
     ]
    }
   ],
   "source": [
    "x1 = int(input('Enter X1: '))\n",
    "y1 = int(input('Enter Y1: '))\n",
    "x2 = int(input('Enter X2: '))\n",
    "y2 = int(input('Enter Y2: '))"
   ]
  },
  {
   "cell_type": "code",
   "execution_count": 5,
   "metadata": {},
   "outputs": [
    {
     "name": "stdout",
     "output_type": "stream",
     "text": [
      "8\n"
     ]
    }
   ],
   "source": [
    "# calculating distance between two points\n",
    "x_diff = x2 - x1\n",
    "y_diff = y2 - y1\n",
    "\n",
    "# calculate area of rectange\n",
    "# area = length * width\n",
    "\n",
    "area = x_diff*y_diff\n",
    "print(area)"
   ]
  }
 ],
 "metadata": {
  "kernelspec": {
   "display_name": "Python 3",
   "language": "python",
   "name": "python3"
  },
  "language_info": {
   "codemirror_mode": {
    "name": "ipython",
    "version": 3
   },
   "file_extension": ".py",
   "mimetype": "text/x-python",
   "name": "python",
   "nbconvert_exporter": "python",
   "pygments_lexer": "ipython3",
   "version": "3.8.5"
  }
 },
 "nbformat": 4,
 "nbformat_minor": 4
}
